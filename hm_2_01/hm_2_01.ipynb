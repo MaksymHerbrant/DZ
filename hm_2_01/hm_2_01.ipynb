{
 "cells": [
  {
   "cell_type": "code",
   "execution_count": null,
   "metadata": {},
   "outputs": [],
   "source": [
    "class Soccerclub:\n",
    "    name = \"\"\n",
    "    city = \"\"\n",
    "    score = 0\n",
    "\n",
    "\n",
    "class Сhampionship:\n",
    "    country = \"\"\n",
    "    name_competition = \"\"\n",
    "    footballclubs = []\n",
    "\n",
    "competitionUA = Сhampionship\n",
    "competitionUA.country = 'Ukraine'\n",
    "competitionUA.name_competition = 'Ukrainian football championship' \n",
    "\n",
    "real = Soccerclub()\n",
    "real.name = 'reaд'\n",
    "real.city = 'Madrid'\n",
    "real.score = 63\n",
    "\n",
    "\n",
    "\n",
    "\n",
    "liverpul = Soccerclub()\n",
    "liverpul.name = 'liverpul'\n",
    "liverpul.city = 'Liverpul'\n",
    "liverpul.score = 64\n",
    "\n",
    "\n",
    "\n",
    "manchester = Soccerclub()\n",
    "manchester.name = 'Manchester'\n",
    "manchester.city = 'Manchester'\n",
    "manchester.score = 109\n",
    "\n",
    "volyn = Soccerclub()\n",
    "volyn.name = 'Volyn'\n",
    "volyn.city = 'Lutsk'\n",
    "volyn.score = 101\n",
    "\n",
    "\n",
    "\n",
    "\n",
    "\n",
    "\n",
    "\n"
   ]
  }
 ],
 "metadata": {
  "kernelspec": {
   "display_name": "Python 3.10.4 64-bit",
   "language": "python",
   "name": "python3"
  },
  "language_info": {
   "name": "python",
   "version": "3.10.4"
  },
  "orig_nbformat": 4,
  "vscode": {
   "interpreter": {
    "hash": "52634da84371cba311ea128a5ea7cdc41ff074b781779e754b270ff9f8153cee"
   }
  }
 },
 "nbformat": 4,
 "nbformat_minor": 2
}
