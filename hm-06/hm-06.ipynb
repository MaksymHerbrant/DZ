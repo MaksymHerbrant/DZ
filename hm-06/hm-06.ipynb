{
 "cells": [
  {
   "cell_type": "code",
   "execution_count": 9,
   "metadata": {},
   "outputs": [
    {
     "name": "stdout",
     "output_type": "stream",
     "text": [
      "dddd\n",
      "dddddd\n",
      "dddddddddddddddddd\n",
      "The largest word is:  dddddddddddddddddd\n"
     ]
    }
   ],
   "source": [
    "masege = input()\n",
    "point = ' .'\n",
    "sent = masege + point\n",
    "space_position = 0\n",
    "word_max = ''\n",
    "while not False:\n",
    "    space_position_cur = sent.find(' ', space_position)\n",
    "    if space_position_cur == -1:\n",
    "        print('The largest word is: ', word_max)\n",
    "        break\n",
    "    else:\n",
    "        word = sent[space_position : space_position_cur]\n",
    "        print(word)\n",
    "        space_position = space_position_cur + 1\n",
    "        \n",
    "        if len(word) > len(word_max):\n",
    "            word_max = word\n",
    "\n",
    "\n"
   ]
  }
 ],
 "metadata": {
  "kernelspec": {
   "display_name": "Python 3.10.4 64-bit",
   "language": "python",
   "name": "python3"
  },
  "language_info": {
   "codemirror_mode": {
    "name": "ipython",
    "version": 3
   },
   "file_extension": ".py",
   "mimetype": "text/x-python",
   "name": "python",
   "nbconvert_exporter": "python",
   "pygments_lexer": "ipython3",
   "version": "3.10.4"
  },
  "orig_nbformat": 4,
  "vscode": {
   "interpreter": {
    "hash": "52634da84371cba311ea128a5ea7cdc41ff074b781779e754b270ff9f8153cee"
   }
  }
 },
 "nbformat": 4,
 "nbformat_minor": 2
}
