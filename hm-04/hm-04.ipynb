{
 "cells": [
  {
   "cell_type": "code",
   "execution_count": 8,
   "metadata": {},
   "outputs": [
    {
     "name": "stdout",
     "output_type": "stream",
     "text": [
      "Австралія\n",
      "Антарктика\n",
      "Африка\n",
      "Південа Америка\n",
      "Північна Америка\n",
      "євразія\n"
     ]
    }
   ],
   "source": [
    "continents_west = [\"Північна Америка\", \"Південа Америка\"]\n",
    "continents_east = [ \"Антарктика\",\"Австралія\",\"Африка\",\"євразія\"]\n",
    "continents_west.extend(continents_east)\n",
    "continents_west.sort(reverse = False)\n",
    "for cont in continents_west:\n",
    "    print(cont)\n",
    "\n",
    "\n"
   ]
  },
  {
   "cell_type": "code",
   "execution_count": 5,
   "metadata": {},
   "outputs": [
    {
     "name": "stdout",
     "output_type": "stream",
     "text": [
      "Такого товару немає\n",
      "['phone', 'samsung', 7800]\n",
      "['notebook', 'dell', 28000]\n",
      "['phone', 'iphone', 27800]\n"
     ]
    }
   ],
   "source": [
    "#Список з каталогом товарів\n",
    "goods = [\n",
    "\n",
    "    ['phone', 'samsung', 7800],\n",
    "\n",
    "    ['notebook', 'dell', 28000],\n",
    "\n",
    "    ['notebook', 'hp', 35000],\n",
    "\n",
    "    ['phone', 'iphone', 27800],\n",
    "\n",
    "]\n",
    "#Приймає назву товара англійською\n",
    "type_goods = input(\"Ведіть товар англійькуою:\")\n",
    "#Виводить на екран всі товари з даної категорії\n",
    "if type_goods == goods[0][0] and goods[3][0]:\n",
    "    print(goods[0])\n",
    "    print(goods[3])\n",
    "elif type_goods == goods[1][0] and goods[2][0]:\n",
    "    print(goods[1])\n",
    "    print(goods[2])   \n",
    "else:\n",
    "    print(\"Такого товару немає\")\n",
    "\n",
    "\n",
    "#Приймає  максимальну ціну товару\n",
    "prize_goods = int(input(\"Ведіть максемальну ціну\"))\n",
    "\n",
    "\n",
    "#Виводить всі товари дешевше вище даного значення\n",
    "if goods[0][2] <= prize_goods:\n",
    "    print(goods[0])\n",
    "if  goods[1][2] <= prize_goods:\n",
    "    print(goods[1])\n",
    "if goods[2][2] <= prize_goods:\n",
    "    print(goods[2])\n",
    "if goods[3][2] <= prize_goods:\n",
    "    print(goods[3])\n",
    "else:\n",
    "    print(\"Товару за такою ціною немає\")\n",
    "\n"
   ]
  }
 ],
 "metadata": {
  "kernelspec": {
   "display_name": "Python 3.10.4 64-bit",
   "language": "python",
   "name": "python3"
  },
  "language_info": {
   "codemirror_mode": {
    "name": "ipython",
    "version": 3
   },
   "file_extension": ".py",
   "mimetype": "text/x-python",
   "name": "python",
   "nbconvert_exporter": "python",
   "pygments_lexer": "ipython3",
   "version": "3.10.4"
  },
  "orig_nbformat": 4,
  "vscode": {
   "interpreter": {
    "hash": "52634da84371cba311ea128a5ea7cdc41ff074b781779e754b270ff9f8153cee"
   }
  }
 },
 "nbformat": 4,
 "nbformat_minor": 2
}
