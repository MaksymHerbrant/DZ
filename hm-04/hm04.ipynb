{
 "cells": [
  {
   "cell_type": "code",
   "execution_count": 9,
   "metadata": {},
   "outputs": [
    {
     "name": "stdout",
     "output_type": "stream",
     "text": [
      "1\n"
     ]
    }
   ],
   "source": [
    "#Приймає строку і символ\n",
    "string = input(\"ведіть строку:\")\n",
    "char = input(\"Ведіть символ:\")\n",
    "number_char_1 = 0\n",
    "#Цикл який підраховує скільки символів в строці\n",
    "for number_char in string:\n",
    "    if number_char == char:\n",
    "        number_char_1 += 1\n",
    "#виводить результат на екран\n",
    "print(number_char_1)\n"
   ]
  },
  {
   "cell_type": "code",
   "execution_count": 61,
   "metadata": {},
   "outputs": [
    {
     "name": "stdout",
     "output_type": "stream",
     "text": [
      "4\n"
     ]
    }
   ],
   "source": [
    "first_number = int(input(\"ведіть перше число:\"))\n",
    "second_number = int(input(\"ведіть друге число:\"))\n",
    "sum_2 = 0\n",
    "\n",
    "for sum in range( first_number , second_number ):\n",
    "    sum_2 += sum**2\n",
    "print(sum_2)"
   ]
  },
  {
   "cell_type": "code",
   "execution_count": 15,
   "metadata": {},
   "outputs": [
    {
     "name": "stdout",
     "output_type": "stream",
     "text": [
      "Ви тут ще не були\n"
     ]
    }
   ],
   "source": [
    " \n",
    "visited_city =[\"Lviv\", \"Paris\" , 'Kyiv', 'Lutsk','New York','Hong Kong']\n",
    "#Приймає місто на провірку\n",
    "city_not_visit = input(\"Ведіть місто в яке ви хочете поїхати\")\n",
    "#Цикл який провіряє чи відвідували це місто\n",
    "for city in visited_city:\n",
    "    if city == city_not_visit:\n",
    "        print(\"Ви тут вже були\")\n",
    "        break\n",
    "else:\n",
    "    print(\"Ви тут ще не були\")"
   ]
  }
 ],
 "metadata": {
  "interpreter": {
   "hash": "52634da84371cba311ea128a5ea7cdc41ff074b781779e754b270ff9f8153cee"
  },
  "kernelspec": {
   "display_name": "Python 3.10.4 64-bit",
   "language": "python",
   "name": "python3"
  },
  "language_info": {
   "codemirror_mode": {
    "name": "ipython",
    "version": 3
   },
   "file_extension": ".py",
   "mimetype": "text/x-python",
   "name": "python",
   "nbconvert_exporter": "python",
   "pygments_lexer": "ipython3",
   "version": "3.10.4"
  },
  "orig_nbformat": 4
 },
 "nbformat": 4,
 "nbformat_minor": 2
}
