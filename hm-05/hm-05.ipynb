{
 "cells": [
  {
   "cell_type": "code",
   "execution_count": 36,
   "metadata": {},
   "outputs": [
    {
     "name": "stdout",
     "output_type": "stream",
     "text": [
      "HelloWorld\n"
     ]
    }
   ],
   "source": [
    "string = \"Hello456World3256\"\n",
    "finish  = \"\"\n",
    "\n",
    "\n",
    "for result in string: \n",
    "\n",
    "    if result.isdigit():\n",
    "        continue\n",
    "    else:\n",
    "        finish += result    \n",
    "\n",
    "\n",
    "        \n",
    "print(finish)"
   ]
  },
  {
   "cell_type": "code",
   "execution_count": 44,
   "metadata": {},
   "outputs": [
    {
     "name": "stdout",
     "output_type": "stream",
     "text": [
      "р\n"
     ]
    }
   ],
   "source": [
    "name = input('Ведіть Прізвище')\n",
    "char_set = set(name)\n",
    "count = \"\"\n",
    "char_max = 0\n",
    "for char in char_set:\n",
    "    curent_max = name.count(char)\n",
    "    if curent_max > char_max:\n",
    "        count = char\n",
    "        char_max = curent_max\n",
    "print(count)"
   ]
  },
  {
   "cell_type": "code",
   "execution_count": 61,
   "metadata": {},
   "outputs": [
    {
     "name": "stdout",
     "output_type": "stream",
     "text": [
      "+380679999999\n",
      "Eror  +380669999999\n",
      "Eror  +380668888888\n",
      "+380507777777\n",
      "+380681151010\n"
     ]
    }
   ],
   "source": [
    "# Дано список з номерами телефонів (6-8 штук). \n",
    "# Виввести зі списку всі телефони, які не відповідають заданому формату: \n",
    "# +380хх1234567 довжина - 13, перші символи +38  код оператора (четвертий - шостий символи) - 067, 068, 097, 044. \n",
    "phones = [\n",
    "    '+380679999999', \n",
    "    '+380669999999',\n",
    "    '+380668888888', \n",
    "    '+380507777777',\n",
    "    '+380681151010'\n",
    "]\n",
    "correct_pnone_len = 13\n",
    "corect_country_cod = '+38'\n",
    "corect_cod_operator = [\"067\",\"068\", \"097\", \"044\",\"050\"]\n",
    "for phone in phones:\n",
    "    if len(phone) == correct_pnone_len and phone [0:3] == corect_country_cod and phone[3:6] in corect_cod_operator:\n",
    "        print(phone)\n",
    "    else:\n",
    "        print(\"Eror \", phone)\n",
    "\n"
   ]
  }
 ],
 "metadata": {
  "kernelspec": {
   "display_name": "Python 3.10.4 64-bit",
   "language": "python",
   "name": "python3"
  },
  "language_info": {
   "codemirror_mode": {
    "name": "ipython",
    "version": 3
   },
   "file_extension": ".py",
   "mimetype": "text/x-python",
   "name": "python",
   "nbconvert_exporter": "python",
   "pygments_lexer": "ipython3",
   "version": "3.10.4"
  },
  "orig_nbformat": 4,
  "vscode": {
   "interpreter": {
    "hash": "52634da84371cba311ea128a5ea7cdc41ff074b781779e754b270ff9f8153cee"
   }
  }
 },
 "nbformat": 4,
 "nbformat_minor": 2
}
