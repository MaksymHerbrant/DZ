{
 "cells": [
  {
   "cell_type": "code",
   "execution_count": 1,
   "metadata": {},
   "outputs": [
    {
     "name": "stdout",
     "output_type": "stream",
     "text": [
      "Maksym 5\n",
      "Dmytro 4\n",
      "Denis 5\n"
     ]
    }
   ],
   "source": [
    "students = {\n",
    "    'Artem': 2,\n",
    "    'Maksym':5,\n",
    "    'Sofia' :3,\n",
    "    'Dmytro':4,\n",
    "    'Denis':5,  \n",
    "\n",
    "}\n",
    "\n",
    "best_students = {}\n",
    "\n",
    "\n",
    "for stud in students:\n",
    "    if students[stud] >= 4:\n",
    "        print(stud,students[stud])"
   ]
  },
  {
   "cell_type": "code",
   "execution_count": 22,
   "metadata": {},
   "outputs": [
    {
     "name": "stdout",
     "output_type": "stream",
     "text": [
      "Температура в  Lutsk = 25\n",
      "Найменша температура   20\n",
      "средня температура  24\n"
     ]
    }
   ],
   "source": [
    "wather = {\n",
    "    'Lviv':24,\n",
    "    'Rivne':20,\n",
    "    'Lutsk':25,\n",
    "    'Kyiv': 21,\n",
    "    'Odesa':32\n",
    "}\n",
    "\n",
    "\n",
    "sentence = input('Ведіть місто:')\n",
    "\n",
    "list = []\n",
    "sum = 0\n",
    "\n",
    "for wathers in wather:\n",
    "    sum += wather[wathers]\n",
    "    list.append(wather[wathers])\n",
    "\n",
    "\n",
    "\n",
    "\n",
    "list.sort()\n",
    "\n",
    "\n",
    "print(\"Температура в \",sentence + \" =\" , wather[sentence] )\n",
    "print(\"Найменша температура  \", *list[:1] )\n",
    "print(\"средня температура \", sum // len(list))\n",
    "    \n",
    "\n",
    "    \n",
    "\n",
    "\n"
   ]
  }
 ],
 "metadata": {
  "kernelspec": {
   "display_name": "Python 3.10.4 64-bit",
   "language": "python",
   "name": "python3"
  },
  "language_info": {
   "codemirror_mode": {
    "name": "ipython",
    "version": 3
   },
   "file_extension": ".py",
   "mimetype": "text/x-python",
   "name": "python",
   "nbconvert_exporter": "python",
   "pygments_lexer": "ipython3",
   "version": "3.10.4"
  },
  "orig_nbformat": 4,
  "vscode": {
   "interpreter": {
    "hash": "52634da84371cba311ea128a5ea7cdc41ff074b781779e754b270ff9f8153cee"
   }
  }
 },
 "nbformat": 4,
 "nbformat_minor": 2
}
